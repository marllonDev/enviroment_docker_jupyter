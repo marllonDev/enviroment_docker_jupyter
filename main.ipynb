{
 "cells": [
  {
   "cell_type": "code",
   "execution_count": 9,
   "id": "966469c5-a8fe-4432-bcfc-19f3d32e60df",
   "metadata": {},
   "outputs": [
    {
     "name": "stdout",
     "output_type": "stream",
     "text": [
      "+-------+---------+-----+-----------+\n",
      "|   nome|sobrenome|idade|        cpf|\n",
      "+-------+---------+-----+-----------+\n",
      "|Marllon|Zucolotto|   24|41234567895|\n",
      "+-------+---------+-----+-----------+\n",
      "\n"
     ]
    }
   ],
   "source": [
    "from pyspark.sql import SparkSession\n",
    "\n",
    "spark = SparkSession.builder \\\n",
    "    .appName(\"PySparkPostgres\") \\\n",
    "    .config(\"spark.jars.packages\", \"org.postgresql:postgresql:42.3.1\") \\\n",
    "    .getOrCreate()\n",
    "\n",
    "df = spark.read \\\n",
    "    .format(\"jdbc\") \\\n",
    "    .option(\"url\", \"jdbc:postgresql://postgres:5432/postgres\") \\\n",
    "    .option(\"dbtable\", \"funcionarios.app_test\") \\\n",
    "    .option(\"user\", \"adm\") \\\n",
    "    .option(\"password\", \"adm\") \\\n",
    "    .option(\"driver\", \"org.postgresql.Driver\") \\\n",
    "    .load()\n",
    "\n",
    "df.show()"
   ]
  },
  {
   "cell_type": "code",
   "execution_count": 13,
   "id": "74b53c0b-6bd6-4977-babb-256e44e40e01",
   "metadata": {},
   "outputs": [
    {
     "name": "stdout",
     "output_type": "stream",
     "text": [
      "+-------+\n",
      "|   NOME|\n",
      "+-------+\n",
      "|Marllon|\n",
      "+-------+\n",
      "\n"
     ]
    }
   ],
   "source": [
    "df.createOrReplaceTempView(\"app_test\")\n",
    "\n",
    "procurar_nome = spark.sql(\"SELECT NOME FROM app_test WHERE NOME = 'Marllon' \")\n",
    "procurar_nome.show()"
   ]
  },
  {
   "cell_type": "code",
   "execution_count": null,
   "id": "85cac41c-1fe5-4e02-ac10-7b644da02939",
   "metadata": {},
   "outputs": [],
   "source": []
  }
 ],
 "metadata": {
  "kernelspec": {
   "display_name": "Python 3 (ipykernel)",
   "language": "python",
   "name": "python3"
  },
  "language_info": {
   "codemirror_mode": {
    "name": "ipython",
    "version": 3
   },
   "file_extension": ".py",
   "mimetype": "text/x-python",
   "name": "python",
   "nbconvert_exporter": "python",
   "pygments_lexer": "ipython3",
   "version": "3.10.17"
  }
 },
 "nbformat": 4,
 "nbformat_minor": 5
}
